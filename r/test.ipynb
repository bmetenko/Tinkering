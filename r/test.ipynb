{
  "cells": [
    {
      "cell_type": "raw",
      "metadata": {},
      "source": [
        "---\n",
        "title: Quarto Basics\n",
        "format:\n",
        "  html:\n",
        "    code-fold: true\n",
        "---"
      ],
      "id": "b5b28673"
    },
    {
      "cell_type": "markdown",
      "metadata": {},
      "source": [
        "For a demonstration of a line plot on a polar axis, see @fig-polar.\n"
      ],
      "id": "b45188c0"
    },
    {
      "cell_type": "code",
      "metadata": {},
      "source": [
        "#| label: fig-polar\n",
        "#| fig-cap: A line plot on a polar axis\n",
        "\n",
        "import numpy as np\n",
        "import matplotlib.pyplot as plt\n",
        "\n",
        "r = np.arange(0, 2, 0.01)\n",
        "theta = 2 * np.pi * r\n",
        "fig, ax = plt.subplots(\n",
        "  subplot_kw = {'projection': 'polar'} \n",
        ")\n",
        "ax.plot(theta, r)\n",
        "ax.set_rticks([0.5, 1, 1.5, 2])\n",
        "ax.grid(True)\n",
        "plt.show()"
      ],
      "id": "fig-polar",
      "execution_count": null,
      "outputs": []
    },
    {
      "cell_type": "markdown",
      "metadata": {},
      "source": [
        "## Annotation\n",
        "\n",
        "@fig-polar is just a simple polar plot run using python and matplotlib.\n",
        "@fig-iris is just a simple bar and scatter plot of iris data using R and ggplot2.\n",
        "\n",
        "\n",
        "\n",
        "```{r}\n",
        "#| label: fig-iris\n",
        "#| fig-cap: Iris dataset preview.\n",
        "#| code-fold: show\n",
        "\n",
        "library(datasets)\n",
        "library(ggplot2)\n",
        "\n",
        "ggplot(datasets::iris) +\n",
        "geom_point(aes(x=`Sepal.Length`, y=`Petal.Length`, color=`Species`)) +\n",
        "geom_histogram(aes(x=`Sepal.Length`, color=`Species`), show.legend = F, bins=150, position='dodge')\n",
        "\n",
        "```"
      ],
      "id": "48441982"
    }
  ],
  "metadata": {
    "kernelspec": {
      "name": "python3",
      "language": "python",
      "display_name": "Python 3 (ipykernel)"
    }
  },
  "nbformat": 4,
  "nbformat_minor": 5
}